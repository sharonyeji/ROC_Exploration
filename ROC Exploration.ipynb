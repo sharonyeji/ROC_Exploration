{
 "cells": [
  {
   "cell_type": "markdown",
   "metadata": {},
   "source": [
    "# ROC Exploration\n",
    "\n",
    "By default, scikit-learn's implementation of the ROC curve only runs a coarse sampling of thresholds. In this exercise you will implement an ROC function that allows the user to specify the granularity of thresholds in order to better visualize classifier performance.\n",
    "\n",
    "\n"
   ]
  },
  {
   "cell_type": "code",
   "execution_count": 35,
   "metadata": {
    "collapsed": true
   },
   "outputs": [],
   "source": [
    "%matplotlib inline\n",
    "import numpy as np\n",
    "import matplotlib.pyplot as plt"
   ]
  },
  {
   "cell_type": "code",
   "execution_count": 36,
   "metadata": {
    "collapsed": true
   },
   "outputs": [],
   "source": [
    "from sklearn.datasets import make_classification\n",
    "from sklearn import metrics\n",
    "from sklearn import model_selection as ms\n",
    "from sklearn.linear_model import LogisticRegression\n",
    "from sklearn.decomposition import PCA"
   ]
  },
  {
   "cell_type": "markdown",
   "metadata": {},
   "source": [
    "We will simply use a default classification dataset in order to test our ROC function."
   ]
  },
  {
   "cell_type": "code",
   "execution_count": 37,
   "metadata": {},
   "outputs": [
    {
     "data": {
      "text/plain": [
       "((100, 20), (100,))"
      ]
     },
     "execution_count": 37,
     "metadata": {},
     "output_type": "execute_result"
    }
   ],
   "source": [
    "x, y = make_classification(random_state=41)  # default arguments\n",
    "x.shape, y.shape"
   ]
  },
  {
   "cell_type": "code",
   "execution_count": 38,
   "metadata": {
    "collapsed": true
   },
   "outputs": [],
   "source": [
    "x_train, x_test, y_train, y_test = ms.train_test_split(x, y)"
   ]
  },
  {
   "cell_type": "markdown",
   "metadata": {},
   "source": [
    "And use a logistic regression classifier"
   ]
  },
  {
   "cell_type": "code",
   "execution_count": 39,
   "metadata": {},
   "outputs": [
    {
     "data": {
      "text/plain": [
       "LogisticRegression(C=1.0, class_weight=None, dual=False, fit_intercept=True,\n",
       "          intercept_scaling=1, max_iter=100, multi_class='ovr', n_jobs=1,\n",
       "          penalty='l2', random_state=None, solver='liblinear', tol=0.0001,\n",
       "          verbose=0, warm_start=False)"
      ]
     },
     "execution_count": 39,
     "metadata": {},
     "output_type": "execute_result"
    }
   ],
   "source": [
    "logreg = LogisticRegression()\n",
    "logreg.fit(x_train, y_train)"
   ]
  },
  {
   "cell_type": "code",
   "execution_count": 40,
   "metadata": {
    "collapsed": true
   },
   "outputs": [],
   "source": [
    "y_predictions = logreg.predict(x_test)\n",
    "scores=logreg.predict_proba(x_test)"
   ]
  },
  {
   "cell_type": "markdown",
   "metadata": {},
   "source": [
    "# Exercise:\n",
    "Complete the two functions below to calculate the ROC"
   ]
  },
  {
   "cell_type": "code",
   "execution_count": 41,
   "metadata": {
    "collapsed": true
   },
   "outputs": [],
   "source": [
    "def get_conf_metrics(scores, y, thr):\n",
    "    \"\"\"\n",
    "    Calculate the cells of the confusion matrix for a given threshold. This might be useful in calculating ROC.\n",
    "    Assume class 1 is the \"positive\" class, class 0 is the \"negative\" class. \n",
    "    y_scores: continuous (unthresholded) output of classifier- e.g. .decision_function(). np array\n",
    "    y: labels (np array- assume it is always 0's and 1's)\n",
    "    thr: threshold (scalar)\n",
    "    return:\n",
    "    fp: false positive count\n",
    "    tp: true positive count\n",
    "    tn: true negative count\n",
    "    fn: false negative count\n",
    "    \"\"\"\n",
    "    #y = y_test\n",
    "    fp = 0\n",
    "    for i in range(len(y)):\n",
    "        if (scores[i] >= thr) and (y[i] == 0):\n",
    "            fp += 1\n",
    "        \n",
    "    tp = 0\n",
    "    for i in range(len(y)):\n",
    "        if (scores[i] >= thr) and (y[i] == 1):\n",
    "            tp += 1\n",
    "    \n",
    "    tn = 0\n",
    "    for i in range(len(y)):\n",
    "        if (scores[i] <= thr) and (y[i] == 0):\n",
    "            tn += 1\n",
    "            \n",
    "    fn = 0\n",
    "    for i in range(len(y)):\n",
    "        if (scores[i] <= thr) and (y[i] == 1):\n",
    "            fn += 1\n",
    "\n",
    "    return fp, tp, tn, fn "
   ]
  },
  {
   "cell_type": "markdown",
   "metadata": {},
   "source": [
    "The ROC function below loops through different thresholds and finds the fpr and tpr as calculated above."
   ]
  },
  {
   "cell_type": "code",
   "execution_count": 42,
   "metadata": {
    "collapsed": true
   },
   "outputs": [],
   "source": [
    "def roc(x, y, clf, thr):\n",
    "    \"\"\"\n",
    "    Calculate ROC metrics by looping through thresholds (thr)\n",
    "    x: data\n",
    "    y: labels\n",
    "    clf: fitted classifier\n",
    "    thr: thresholds\n",
    "    returns: fprs, tprs (false positive rate and true positive rate for each threshold)\n",
    "    \"\"\"\n",
    "    scores=clf.decision_function(x)\n",
    "    y_test=y\n",
    "    fprs = []\n",
    "    tprs = []\n",
    "    for i in thr:\n",
    "        fp, tp, tn, fn=get_conf_metrics(scores, y_test, i)\n",
    "        fprs.append(fp/(tn + fp))\n",
    "        tprs.append(tp/(tp + fn))    \n",
    "    \n",
    "    return fprs, tprs\n"
   ]
  },
  {
   "cell_type": "markdown",
   "metadata": {},
   "source": [
    "## Test function: \n",
    "\n",
    "We will test the ROC function on the left-out test data. The Scikit-learn implementation is also plotted for reference"
   ]
  },
  {
   "cell_type": "code",
   "execution_count": 43,
   "metadata": {},
   "outputs": [
    {
     "data": {
      "text/plain": [
       "Text(0.5,1,'ROC')"
      ]
     },
     "execution_count": 43,
     "metadata": {},
     "output_type": "execute_result"
    },
    {
     "data": {
      "image/png": "[encoded data removed]",
      "text/plain": [
       "<matplotlib.figure.Figure at 0xa5c1aa6a58>"
      ]
     },
     "metadata": {},
     "output_type": "display_data"
    }
   ],
   "source": [
    "thresholds = np.linspace(-10, 10, 50)  # Feel free to modify this\n",
    "fprs, tprs = roc(x_test, y_test, logreg, thresholds)  # pass in test dataset, fitted model, and thresholds of interest\n",
    "skl_fpr, skl_tpr, _ = metrics.roc_curve(y_test, logreg.predict(x_test))\n",
    "\n",
    "plt.plot(fprs, tprs, 'ro-')\n",
    "plt.plot(skl_fpr, skl_tpr, 'bo-')\n",
    "plt.xlabel('FPR')\n",
    "plt.ylabel('TPR')\n",
    "plt.plot([0, 1], [0, 1], color='navy', lw=1, linestyle='--')\n",
    "plt.title('ROC')"
   ]
  },
  {
   "cell_type": "markdown",
   "metadata": {},
   "source": [
    "## Bonus:\n",
    "How might you extend ROC to 3 classes? 4 or more? (short answer)"
   ]
  },
  {
   "cell_type": "markdown",
   "metadata": {},
   "source": [
    "When extend ROC to multiclasses, the Confusion Matrix is also extended where the diagonal of the matrix contains the true positives and negatives of the binary results.  Because the Confusion Matrix is also extended, it contains all the important values to create the ROC graph and evaluate the model."
   ]
  }
 ],
 "metadata": {
  "kernelspec": {
   "display_name": "Python 3",
   "language": "python",
   "name": "python3"
  },
  "language_info": {
   "codemirror_mode": {
    "name": "ipython",
    "version": 3
   },
   "file_extension": ".py",
   "mimetype": "text/x-python",
   "name": "python",
   "nbconvert_exporter": "python",
   "pygments_lexer": "ipython3",
   "version": "3.7.3"
  }
 },
 "nbformat": 4,
 "nbformat_minor": 1
}
